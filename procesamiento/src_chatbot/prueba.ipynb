{
 "cells": [
  {
   "cell_type": "code",
   "execution_count": null,
   "id": "19515638",
   "metadata": {},
   "outputs": [
    {
     "name": "stdout",
     "output_type": "stream",
     "text": [
      "Requirement already satisfied: streamlit in c:\\users\\lenovo\\anaconda3\\envs\\zoom\\lib\\site-packages (1.45.1)\n",
      "Requirement already satisfied: streamlit_folium in c:\\users\\lenovo\\anaconda3\\envs\\zoom\\lib\\site-packages (0.25.0)\n",
      "Requirement already satisfied: openai in c:\\users\\lenovo\\anaconda3\\envs\\zoom\\lib\\site-packages (1.82.1)\n",
      "Requirement already satisfied: python-dotenv in c:\\users\\lenovo\\anaconda3\\envs\\zoom\\lib\\site-packages (1.1.0)\n",
      "Collecting geopandas\n",
      "  Using cached geopandas-1.0.1-py3-none-any.whl.metadata (2.2 kB)\n",
      "Requirement already satisfied: altair<6,>=4.0 in c:\\users\\lenovo\\anaconda3\\envs\\zoom\\lib\\site-packages (from streamlit) (5.5.0)\n",
      "Requirement already satisfied: blinker<2,>=1.5.0 in c:\\users\\lenovo\\anaconda3\\envs\\zoom\\lib\\site-packages (from streamlit) (1.9.0)\n",
      "Requirement already satisfied: cachetools<6,>=4.0 in c:\\users\\lenovo\\anaconda3\\envs\\zoom\\lib\\site-packages (from streamlit) (5.5.2)\n",
      "Requirement already satisfied: click<9,>=7.0 in c:\\users\\lenovo\\anaconda3\\envs\\zoom\\lib\\site-packages (from streamlit) (8.2.1)\n",
      "Requirement already satisfied: numpy<3,>=1.23 in c:\\users\\lenovo\\anaconda3\\envs\\zoom\\lib\\site-packages (from streamlit) (2.2.4)\n",
      "Requirement already satisfied: packaging<25,>=20 in c:\\users\\lenovo\\anaconda3\\envs\\zoom\\lib\\site-packages (from streamlit) (24.2)\n",
      "Requirement already satisfied: pandas<3,>=1.4.0 in c:\\users\\lenovo\\anaconda3\\envs\\zoom\\lib\\site-packages (from streamlit) (2.2.3)\n",
      "Requirement already satisfied: pillow<12,>=7.1.0 in c:\\users\\lenovo\\anaconda3\\envs\\zoom\\lib\\site-packages (from streamlit) (11.2.1)\n",
      "Requirement already satisfied: protobuf<7,>=3.20 in c:\\users\\lenovo\\anaconda3\\envs\\zoom\\lib\\site-packages (from streamlit) (6.31.1)\n",
      "Requirement already satisfied: pyarrow>=7.0 in c:\\users\\lenovo\\anaconda3\\envs\\zoom\\lib\\site-packages (from streamlit) (20.0.0)\n",
      "Requirement already satisfied: requests<3,>=2.27 in c:\\users\\lenovo\\anaconda3\\envs\\zoom\\lib\\site-packages (from streamlit) (2.32.3)\n",
      "Requirement already satisfied: tenacity<10,>=8.1.0 in c:\\users\\lenovo\\anaconda3\\envs\\zoom\\lib\\site-packages (from streamlit) (9.1.2)\n",
      "Requirement already satisfied: toml<2,>=0.10.1 in c:\\users\\lenovo\\anaconda3\\envs\\zoom\\lib\\site-packages (from streamlit) (0.10.2)\n",
      "Requirement already satisfied: typing-extensions<5,>=4.4.0 in c:\\users\\lenovo\\anaconda3\\envs\\zoom\\lib\\site-packages (from streamlit) (4.13.2)\n",
      "Requirement already satisfied: watchdog<7,>=2.1.5 in c:\\users\\lenovo\\anaconda3\\envs\\zoom\\lib\\site-packages (from streamlit) (6.0.0)\n",
      "Requirement already satisfied: gitpython!=3.1.19,<4,>=3.0.7 in c:\\users\\lenovo\\anaconda3\\envs\\zoom\\lib\\site-packages (from streamlit) (3.1.44)\n",
      "Requirement already satisfied: pydeck<1,>=0.8.0b4 in c:\\users\\lenovo\\anaconda3\\envs\\zoom\\lib\\site-packages (from streamlit) (0.9.1)\n",
      "Requirement already satisfied: tornado<7,>=6.0.3 in c:\\users\\lenovo\\anaconda3\\envs\\zoom\\lib\\site-packages (from streamlit) (6.2)\n",
      "Requirement already satisfied: folium!=0.15.0,>=0.13 in c:\\users\\lenovo\\anaconda3\\envs\\zoom\\lib\\site-packages (from streamlit_folium) (0.19.6)\n",
      "Requirement already satisfied: jinja2 in c:\\users\\lenovo\\anaconda3\\envs\\zoom\\lib\\site-packages (from streamlit_folium) (3.1.6)\n",
      "Requirement already satisfied: branca in c:\\users\\lenovo\\anaconda3\\envs\\zoom\\lib\\site-packages (from streamlit_folium) (0.8.1)\n",
      "Requirement already satisfied: anyio<5,>=3.5.0 in c:\\users\\lenovo\\anaconda3\\envs\\zoom\\lib\\site-packages (from openai) (4.9.0)\n",
      "Requirement already satisfied: distro<2,>=1.7.0 in c:\\users\\lenovo\\anaconda3\\envs\\zoom\\lib\\site-packages (from openai) (1.9.0)\n",
      "Requirement already satisfied: httpx<1,>=0.23.0 in c:\\users\\lenovo\\anaconda3\\envs\\zoom\\lib\\site-packages (from openai) (0.28.1)\n",
      "Requirement already satisfied: jiter<1,>=0.4.0 in c:\\users\\lenovo\\anaconda3\\envs\\zoom\\lib\\site-packages (from openai) (0.10.0)\n",
      "Requirement already satisfied: pydantic<3,>=1.9.0 in c:\\users\\lenovo\\anaconda3\\envs\\zoom\\lib\\site-packages (from openai) (2.11.5)\n",
      "Requirement already satisfied: sniffio in c:\\users\\lenovo\\anaconda3\\envs\\zoom\\lib\\site-packages (from openai) (1.3.1)\n",
      "Requirement already satisfied: tqdm>4 in c:\\users\\lenovo\\anaconda3\\envs\\zoom\\lib\\site-packages (from openai) (4.67.1)\n",
      "Collecting pyogrio>=0.7.2 (from geopandas)\n",
      "  Downloading pyogrio-0.11.0-cp311-cp311-win_amd64.whl.metadata (5.4 kB)\n",
      "Collecting pyproj>=3.3.0 (from geopandas)\n",
      "  Downloading pyproj-3.7.1-cp311-cp311-win_amd64.whl.metadata (31 kB)\n",
      "Collecting shapely>=2.0.0 (from geopandas)\n",
      "  Downloading shapely-2.1.1-cp311-cp311-win_amd64.whl.metadata (7.0 kB)\n",
      "Requirement already satisfied: jsonschema>=3.0 in c:\\users\\lenovo\\anaconda3\\envs\\zoom\\lib\\site-packages (from altair<6,>=4.0->streamlit) (4.24.0)\n",
      "Requirement already satisfied: narwhals>=1.14.2 in c:\\users\\lenovo\\anaconda3\\envs\\zoom\\lib\\site-packages (from altair<6,>=4.0->streamlit) (1.41.0)\n",
      "Requirement already satisfied: idna>=2.8 in c:\\users\\lenovo\\anaconda3\\envs\\zoom\\lib\\site-packages (from anyio<5,>=3.5.0->openai) (3.10)\n",
      "Requirement already satisfied: colorama in c:\\users\\lenovo\\anaconda3\\envs\\zoom\\lib\\site-packages (from click<9,>=7.0->streamlit) (0.4.6)\n",
      "Requirement already satisfied: xyzservices in c:\\users\\lenovo\\anaconda3\\envs\\zoom\\lib\\site-packages (from folium!=0.15.0,>=0.13->streamlit_folium) (2025.4.0)\n",
      "Requirement already satisfied: gitdb<5,>=4.0.1 in c:\\users\\lenovo\\anaconda3\\envs\\zoom\\lib\\site-packages (from gitpython!=3.1.19,<4,>=3.0.7->streamlit) (4.0.12)\n",
      "Requirement already satisfied: certifi in c:\\users\\lenovo\\anaconda3\\envs\\zoom\\lib\\site-packages (from httpx<1,>=0.23.0->openai) (2025.1.31)\n",
      "Requirement already satisfied: httpcore==1.* in c:\\users\\lenovo\\anaconda3\\envs\\zoom\\lib\\site-packages (from httpx<1,>=0.23.0->openai) (1.0.9)\n",
      "Requirement already satisfied: h11>=0.16 in c:\\users\\lenovo\\anaconda3\\envs\\zoom\\lib\\site-packages (from httpcore==1.*->httpx<1,>=0.23.0->openai) (0.16.0)\n",
      "Requirement already satisfied: MarkupSafe>=2.0 in c:\\users\\lenovo\\anaconda3\\envs\\zoom\\lib\\site-packages (from jinja2->streamlit_folium) (3.0.2)\n",
      "Requirement already satisfied: python-dateutil>=2.8.2 in c:\\users\\lenovo\\anaconda3\\envs\\zoom\\lib\\site-packages (from pandas<3,>=1.4.0->streamlit) (2.9.0.post0)\n",
      "Requirement already satisfied: pytz>=2020.1 in c:\\users\\lenovo\\anaconda3\\envs\\zoom\\lib\\site-packages (from pandas<3,>=1.4.0->streamlit) (2025.2)\n",
      "Requirement already satisfied: tzdata>=2022.7 in c:\\users\\lenovo\\anaconda3\\envs\\zoom\\lib\\site-packages (from pandas<3,>=1.4.0->streamlit) (2025.2)\n",
      "Requirement already satisfied: annotated-types>=0.6.0 in c:\\users\\lenovo\\anaconda3\\envs\\zoom\\lib\\site-packages (from pydantic<3,>=1.9.0->openai) (0.7.0)\n",
      "Requirement already satisfied: pydantic-core==2.33.2 in c:\\users\\lenovo\\anaconda3\\envs\\zoom\\lib\\site-packages (from pydantic<3,>=1.9.0->openai) (2.33.2)\n",
      "Requirement already satisfied: typing-inspection>=0.4.0 in c:\\users\\lenovo\\anaconda3\\envs\\zoom\\lib\\site-packages (from pydantic<3,>=1.9.0->openai) (0.4.1)\n",
      "Requirement already satisfied: charset-normalizer<4,>=2 in c:\\users\\lenovo\\anaconda3\\envs\\zoom\\lib\\site-packages (from requests<3,>=2.27->streamlit) (3.4.1)\n",
      "Requirement already satisfied: urllib3<3,>=1.21.1 in c:\\users\\lenovo\\anaconda3\\envs\\zoom\\lib\\site-packages (from requests<3,>=2.27->streamlit) (2.4.0)\n",
      "Requirement already satisfied: smmap<6,>=3.0.1 in c:\\users\\lenovo\\anaconda3\\envs\\zoom\\lib\\site-packages (from gitdb<5,>=4.0.1->gitpython!=3.1.19,<4,>=3.0.7->streamlit) (5.0.2)\n",
      "Requirement already satisfied: attrs>=22.2.0 in c:\\users\\lenovo\\anaconda3\\envs\\zoom\\lib\\site-packages (from jsonschema>=3.0->altair<6,>=4.0->streamlit) (25.3.0)\n",
      "Requirement already satisfied: jsonschema-specifications>=2023.03.6 in c:\\users\\lenovo\\anaconda3\\envs\\zoom\\lib\\site-packages (from jsonschema>=3.0->altair<6,>=4.0->streamlit) (2025.4.1)\n",
      "Requirement already satisfied: referencing>=0.28.4 in c:\\users\\lenovo\\anaconda3\\envs\\zoom\\lib\\site-packages (from jsonschema>=3.0->altair<6,>=4.0->streamlit) (0.36.2)\n",
      "Requirement already satisfied: rpds-py>=0.7.1 in c:\\users\\lenovo\\anaconda3\\envs\\zoom\\lib\\site-packages (from jsonschema>=3.0->altair<6,>=4.0->streamlit) (0.25.1)\n",
      "Requirement already satisfied: six>=1.5 in c:\\users\\lenovo\\anaconda3\\envs\\zoom\\lib\\site-packages (from python-dateutil>=2.8.2->pandas<3,>=1.4.0->streamlit) (1.17.0)\n",
      "Using cached geopandas-1.0.1-py3-none-any.whl (323 kB)\n",
      "Downloading pyogrio-0.11.0-cp311-cp311-win_amd64.whl (19.2 MB)\n",
      "   ---------------------------------------- 0.0/19.2 MB ? eta -:--:--\n",
      "   --- ------------------------------------ 1.8/19.2 MB 14.4 MB/s eta 0:00:02\n",
      "   --------- ------------------------------ 4.5/19.2 MB 12.2 MB/s eta 0:00:02\n",
      "   ----------- ---------------------------- 5.5/19.2 MB 9.3 MB/s eta 0:00:02\n",
      "   -------------- ------------------------- 7.1/19.2 MB 8.9 MB/s eta 0:00:02\n",
      "   -------------------- ------------------- 9.7/19.2 MB 9.4 MB/s eta 0:00:02\n",
      "   ------------------------ --------------- 11.8/19.2 MB 9.6 MB/s eta 0:00:01\n",
      "   ----------------------------- ---------- 14.2/19.2 MB 9.8 MB/s eta 0:00:01\n",
      "   -------------------------------- ------- 15.5/19.2 MB 9.5 MB/s eta 0:00:01\n",
      "   --------------------------------- ------ 16.3/19.2 MB 8.7 MB/s eta 0:00:01\n",
      "   ------------------------------------- -- 17.8/19.2 MB 8.5 MB/s eta 0:00:01\n",
      "   ---------------------------------------  19.1/19.2 MB 8.4 MB/s eta 0:00:01\n",
      "   ---------------------------------------- 19.2/19.2 MB 7.6 MB/s eta 0:00:00\n",
      "Downloading pyproj-3.7.1-cp311-cp311-win_amd64.whl (6.3 MB)\n",
      "   ---------------------------------------- 0.0/6.3 MB ? eta -:--:--\n",
      "   -------- ------------------------------- 1.3/6.3 MB 7.4 MB/s eta 0:00:01\n",
      "   ------------------ --------------------- 2.9/6.3 MB 7.6 MB/s eta 0:00:01\n",
      "   ---------------------------- ----------- 4.5/6.3 MB 7.4 MB/s eta 0:00:01\n",
      "   ----------------------------------- ---- 5.5/6.3 MB 6.8 MB/s eta 0:00:01\n",
      "   ---------------------------------------- 6.3/6.3 MB 6.2 MB/s eta 0:00:00\n",
      "Downloading shapely-2.1.1-cp311-cp311-win_amd64.whl (1.7 MB)\n",
      "   ---------------------------------------- 0.0/1.7 MB ? eta -:--:--\n",
      "   ------------------------------ --------- 1.3/1.7 MB 6.1 MB/s eta 0:00:01\n",
      "   ---------------------------------------- 1.7/1.7 MB 6.2 MB/s eta 0:00:00\n",
      "Installing collected packages: shapely, pyproj, pyogrio, geopandas\n",
      "Successfully installed geopandas-1.0.1 pyogrio-0.11.0 pyproj-3.7.1 shapely-2.1.1\n",
      "Note: you may need to restart the kernel to use updated packages.\n"
     ]
    }
   ],
   "source": [
    "#pip install streamlit streamlit_folium openai python-dotenv geopandas\n"
   ]
  },
  {
   "cell_type": "code",
   "execution_count": 1,
   "id": "dedf5df5",
   "metadata": {},
   "outputs": [],
   "source": [
    "import json\n",
    "import sys\n",
    "import os"
   ]
  },
  {
   "cell_type": "code",
   "execution_count": 2,
   "id": "9843cfba",
   "metadata": {},
   "outputs": [
    {
     "name": "stdout",
     "output_type": "stream",
     "text": [
      "Raíz del proyecto añadida a sys.path: c:\\Users\\LENOVO\\Documents\\GitHub\\qlab_chatbot_corrupcion\n",
      "Contenido de sys.path (primeros elementos): ['c:\\\\Users\\\\LENOVO\\\\anaconda3\\\\envs\\\\zoom\\\\python311.zip', 'c:\\\\Users\\\\LENOVO\\\\anaconda3\\\\envs\\\\zoom\\\\DLLs', 'c:\\\\Users\\\\LENOVO\\\\anaconda3\\\\envs\\\\zoom\\\\Lib', 'c:\\\\Users\\\\LENOVO\\\\anaconda3\\\\envs\\\\zoom', '']\n",
      "Importación exitosa desde src_chatbot.chatbot_logic\n"
     ]
    }
   ],
   "source": [
    "# Esta forma es más robusta asumiendo que el notebook está en src_chatbot:\n",
    "current_notebook_directory = os.path.dirname(os.path.abspath(\"__file__\" if \"__file__\" in locals() else os.getcwd())) #Define la ruta actual\n",
    "project_root = os.path.abspath(os.path.join(current_notebook_directory, '..')) #Sube un nivel (src_chatbot)\n",
    "\n",
    "if project_root not in sys.path:\n",
    "    sys.path.append(project_root)\n",
    "\n",
    "print(f\"Raíz del proyecto añadida a sys.path: {project_root}\")\n",
    "print(f\"Contenido de sys.path (primeros elementos): {sys.path[:5]}\")\n",
    "\n",
    "\n",
    "# Ahora puedes importar usando la ruta desde la raíz del proyecto\n",
    "try:\n",
    "    from chatbot_logic import (\n",
    "        load_chunks_from_jsonl,\n",
    "        normalize_text,\n",
    "        extract_query_parameters,\n",
    "        find_relevant_chunks,\n",
    "        system_prompt_v2  # Si necesitas el prompt para algo\n",
    "        # send_question_to_openai # Descomenta si quieres probarla y tienes un cliente OpenAI\n",
    "    )\n",
    "    print(\"Importación exitosa desde src_chatbot.chatbot_logic\")\n",
    "except ImportError as e:\n",
    "    print(f\"Error en la importación: {e}\")\n",
    "    print(\"Asegúrate de que __init__.py existe en la carpeta src_chatbot (ya lo tienes).\")\n",
    "    print(\"Y que la estructura de carpetas es la correcta.\")"
   ]
  },
  {
   "cell_type": "code",
   "execution_count": 3,
   "id": "7636afed",
   "metadata": {},
   "outputs": [
    {
     "name": "stdout",
     "output_type": "stream",
     "text": [
      "Cargados 10620 chunks desde c:\\Users\\LENOVO\\Documents\\GitHub\\qlab_chatbot_corrupcion\\output\\salida_chunks_final.jsonl\n",
      "Cargados 10620 chunks.\n",
      "Ejemplo del primer chunk:\n",
      "{\n",
      "  \"chunk_id\": \"001_2016_2_0335_obj_0\",\n",
      "  \"report_id\": \"001_2016_2_0335\",\n",
      "  \"chunk_text\": \"Áncash\\\" se ejecuto de acuerdo a normatividad vigente.\",\n",
      "  \"source_field\": \"objetivo\",\n",
      "  \"metadata\": {\n",
      "    \"numero_informe\": \"001-2016-2-0335\",\n",
      "    \"titulo_informe\": \"Adquisición  de  Geomembrana  HDPE  Obra:  \\\"Instalación  de  la  línea  emisora  reubicación  de  la  planta  de  tratamiento  de  aguas  servidas  de  la  ciudad  Casma  -  Provincia de Casma - Áncash\\\"\",\n",
      "    \"region\": \"ANCASH\",\n",
      "    \"provincia\": \"CASMA\",\n",
      "    \"distrito\": \"CASMA\",\n",
      "    \"entidad_auditada\": \"MUNICIPALIDAD PROVINCIAL DE CASMA\",\n",
      "    \"year\": 2016,\n",
      "    \"periodo_inicio\": null,\n",
      "    \"periodo_fin\": null,\n",
      "    \"monto_auditado\": 2133933.42,\n",
      "    \"monto_examinado\": 2133933.42,\n",
      "    \"modalidad\": \"AC\",\n",
      "    \"fecha_emision\": \"2016-08-31\",\n",
      "    \"unidad_emite\": \"OCI - MUNICIPALIDAD PROVINCIAL DE CASMA\",\n",
      "    \"personas_implicadas\": [\n",
      "      {\n",
      "        \"dni\": \".\",\n",
      "        \"nombre\": \".\"\n",
      "      }\n",
      "    ],\n",
      "    \"civil\": false,\n",
      "    \"penal\": false,\n",
      "    \"admin_ent\": false,\n",
      "    \"admin_pas\": false\n",
      "  }\n",
      "}\n"
     ]
    }
   ],
   "source": [
    "# Cargar los chunks una vez\n",
    "all_docs_chunks = load_chunks_from_jsonl() # Asegúrate que la ruta sea correcta\n",
    "print(f\"Cargados {len(all_docs_chunks)} chunks.\")\n",
    "if all_docs_chunks:\n",
    "    print(\"Ejemplo del primer chunk:\")\n",
    "    print(json.dumps(all_docs_chunks[0], indent=2, ensure_ascii=False))\n",
    "else:\n",
    "    print(\"¡No se cargaron chunks! Verifica la ruta y el archivo.\")\n"
   ]
  },
  {
   "cell_type": "code",
   "execution_count": 4,
   "id": "4e4ef47a",
   "metadata": {},
   "outputs": [
    {
     "name": "stdout",
     "output_type": "stream",
     "text": [
      "Original: 'Región Áncash con Énfasis' -> Normalizado: 'region ancash con enfasis'\n"
     ]
    }
   ],
   "source": [
    "test_text = \"Región Áncash con Énfasis\"\n",
    "normalized = normalize_text(test_text)\n",
    "print(f\"Original: '{test_text}' -> Normalizado: '{normalized}'\")\n",
    "# Esperado: region ancash con enfasis\n"
   ]
  },
  {
   "cell_type": "code",
   "execution_count": 4,
   "id": "e22ad796",
   "metadata": {},
   "outputs": [
    {
     "name": "stdout",
     "output_type": "stream",
     "text": [
      "\n",
      "--- Probando extract_query_parameters ---\n",
      "Query: 'informe de corrupcion en lima 2019'\n",
      "  Params: {'years': ['2019'], 'regions': ['lima'], 'keywords': [], 'is_specific_enough': True}\n",
      "Query: 'tienes datos sobre la region cuzco'\n",
      "  Params: {'years': [], 'regions': ['cusco'], 'keywords': ['tienes', 'datos'], 'is_specific_enough': True}\n",
      "Query: 'junin en 2020'\n",
      "  Params: {'years': ['2020'], 'regions': ['junin'], 'keywords': [], 'is_specific_enough': True}\n",
      "Query: 'reportes de ayacucho y apurimac entre 2018 y 2020 sobre obras publicas'\n",
      "  Params: {'years': ['2020', '2018'], 'regions': ['ayacucho', 'apurimac'], 'keywords': ['reportes', 'entre', 'obras', 'publicas'], 'is_specific_enough': True}\n",
      "Query: 'que paso en la municipalidad de huamanga'\n",
      "  Params: {'years': [], 'regions': [], 'keywords': ['paso', 'huamanga'], 'is_specific_enough': True}\n"
     ]
    }
   ],
   "source": [
    "print(\"\\n--- Probando extract_query_parameters ---\")\n",
    "queries = [\n",
    "    \"informe de corrupcion en lima 2019\",\n",
    "    \"tienes datos sobre la region cuzco\",\n",
    "    \"junin en 2020\",\n",
    "    \"reportes de ayacucho y apurimac entre 2018 y 2020 sobre obras publicas\",\n",
    "    \"que paso en la municipalidad de huamanga\" # Ejemplo sin año/región clara\n",
    "]\n",
    "\n",
    "for q in queries:\n",
    "    params = extract_query_parameters(q)\n",
    "    print(f\"Query: '{q}'\\n  Params: {params}\")\n"
   ]
  },
  {
   "cell_type": "code",
   "execution_count": 6,
   "id": "1df7c8ef",
   "metadata": {},
   "outputs": [
    {
     "name": "stdout",
     "output_type": "stream",
     "text": [
      "\n",
      "--- Probando find_relevant_chunks ---\n",
      "\n",
      "Buscando para: 'informe de corrupcion en lima 2019'\n",
      "Resultado: Encontrados 5 chunks.\n",
      "\n",
      "Buscando para: 'tienes datos sobre la region cuzco'\n",
      "Resultado: Encontrados 5 chunks.\n",
      "\n",
      "Buscando para: 'informes para junin en 2021'\n",
      "Resultado: Encontrados 5 chunks.\n"
     ]
    }
   ],
   "source": [
    "# Celda 4: Probar find_relevant_chunks (con los prints de depuración activados dentro de la función)\n",
    "print(\"\\n--- Probando find_relevant_chunks ---\")\n",
    "\n",
    "# Pregunta 1\n",
    "question1 = \"informe de corrupcion en lima 2019\"\n",
    "print(f\"\\nBuscando para: '{question1}'\")\n",
    "result1 = find_relevant_chunks(question1, all_docs_chunks, max_chunks=5)\n",
    "if result1[\"needs_more_specificity\"]:\n",
    "    print(\"Resultado: Necesita más especificidad.\")\n",
    "elif not result1[\"chunks\"]:\n",
    "    print(f\"Resultado: No se encontraron chunks. Razón: {result1.get('no_data_for_filter') or result1.get('no_data_for_filter_after_score', 'desconocida')}\")\n",
    "    if result1.get(\"params\"): print(f\"  Parámetros usados: {result1.get('params')}\")\n",
    "else:\n",
    "    print(f\"Resultado: Encontrados {len(result1['chunks'])} chunks.\")\n",
    "    # for i, chunk in enumerate(result1[\"chunks\"]):\n",
    "    #     print(f\"  Chunk {i+1} (Informe: {chunk.get('metadata', {}).get('numero_informe', 'N/A')}, Región: {chunk.get('metadata', {}).get('region', 'N/A')}, Año: {chunk.get('metadata', {}).get('year', 'N/A')})\")\n",
    "    #     print(f\"    Texto: {chunk.get('chunk_text', '')[:150]}...\") # Imprime un fragmento\n",
    "\n",
    "# Pregunta 2\n",
    "question2 = \"tienes datos sobre la region cuzco\"\n",
    "print(f\"\\nBuscando para: '{question2}'\")\n",
    "result2 = find_relevant_chunks(question2, all_docs_chunks, max_chunks=5)\n",
    "# ... (mismo manejo de resultados que para question1) ...\n",
    "if result2[\"needs_more_specificity\"]:\n",
    "    print(\"Resultado: Necesita más especificidad.\")\n",
    "elif not result2[\"chunks\"]:\n",
    "    print(f\"Resultado: No se encontraron chunks. Razón: {result2.get('no_data_for_filter') or result2.get('no_data_for_filter_after_score', 'desconocida')}\")\n",
    "    if result2.get(\"params\"): print(f\"  Parámetros usados: {result2.get('params')}\")\n",
    "else:\n",
    "    print(f\"Resultado: Encontrados {len(result2['chunks'])} chunks.\")\n",
    "\n",
    "\n",
    "# Pregunta 3 (para Junín)\n",
    "question3 = \"informes para junin en 2021\"\n",
    "print(f\"\\nBuscando para: '{question3}'\")\n",
    "result3 = find_relevant_chunks(question3, all_docs_chunks, max_chunks=5)\n",
    "# ... (mismo manejo de resultados) ...\n",
    "if result3[\"needs_more_specificity\"]:\n",
    "    print(\"Resultado: Necesita más especificidad.\")\n",
    "elif not result3[\"chunks\"]:\n",
    "    print(f\"Resultado: No se encontraron chunks. Razón: {result3.get('no_data_for_filter') or result3.get('no_data_for_filter_after_score', 'desconocida')}\")\n",
    "    if result3.get(\"params\"): print(f\"  Parámetros usados: {result3.get('params')}\")\n",
    "else:\n",
    "    print(f\"Resultado: Encontrados {len(result3['chunks'])} chunks.\")\n",
    "\n"
   ]
  }
 ],
 "metadata": {
  "kernelspec": {
   "display_name": "zoom",
   "language": "python",
   "name": "python3"
  },
  "language_info": {
   "codemirror_mode": {
    "name": "ipython",
    "version": 3
   },
   "file_extension": ".py",
   "mimetype": "text/x-python",
   "name": "python",
   "nbconvert_exporter": "python",
   "pygments_lexer": "ipython3",
   "version": "3.11.11"
  }
 },
 "nbformat": 4,
 "nbformat_minor": 5
}
